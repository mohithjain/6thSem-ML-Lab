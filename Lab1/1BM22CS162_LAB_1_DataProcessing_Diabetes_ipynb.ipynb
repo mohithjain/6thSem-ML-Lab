{
  "nbformat": 4,
  "nbformat_minor": 0,
  "metadata": {
    "colab": {
      "provenance": []
    },
    "kernelspec": {
      "name": "python3",
      "display_name": "Python 3"
    },
    "language_info": {
      "name": "python"
    }
  },
  "cells": [
    {
      "cell_type": "code",
      "execution_count": null,
      "metadata": {
        "id": "To0PDCNlN3NJ"
      },
      "outputs": [],
      "source": [
        "import pandas as pd\n",
        "import numpy as np"
      ]
    },
    {
      "cell_type": "code",
      "source": [
        "filepath = \"/Dataset of Diabetes .csv\"\n",
        "df = pd.read_csv(filepath)"
      ],
      "metadata": {
        "id": "wUtbB4CSPIu0"
      },
      "execution_count": null,
      "outputs": []
    },
    {
      "cell_type": "code",
      "source": [
        "import pandas as pd\n",
        "import numpy as np\n",
        "from sklearn.preprocessing import MinMaxScaler, StandardScaler\n",
        "from sklearn.preprocessing import LabelEncoder\n",
        "\n",
        "# Load the data\n",
        "data = pd.read_csv('/Dataset of Diabetes .csv')\n",
        "\n",
        "# 1. Data Cleaning\n",
        "\n",
        "# Check for missing values\n",
        "print(\"Missing values in each column:\")\n",
        "print(data.isnull().sum())\n"
      ],
      "metadata": {
        "colab": {
          "base_uri": "https://localhost:8080/"
        },
        "id": "pComVh8HQvPD",
        "outputId": "37043b14-a0c7-4338-d063-49a2006ef446"
      },
      "execution_count": null,
      "outputs": [
        {
          "output_type": "stream",
          "name": "stdout",
          "text": [
            "Missing values in each column:\n",
            "ID           0\n",
            "No_Pation    0\n",
            "Gender       0\n",
            "AGE          0\n",
            "Urea         0\n",
            "Cr           0\n",
            "HbA1c        0\n",
            "Chol         0\n",
            "TG           0\n",
            "HDL          0\n",
            "LDL          0\n",
            "VLDL         0\n",
            "BMI          0\n",
            "CLASS        0\n",
            "dtype: int64\n"
          ]
        }
      ]
    },
    {
      "cell_type": "code",
      "source": [
        "# Handle missing values\n",
        "# For numerical columns, we'll fill with median\n",
        "numerical_columns = ['Urea', 'Cr', 'HbA1c', 'Chol', 'TG', 'HDL', 'LDL', 'VLDL', 'BMI']\n",
        "\n",
        "# Option 1: Fill missing values column by column\n",
        "for col in numerical_columns:\n",
        "    data[col] = data[col].fillna(data[col].median())\n",
        "\n",
        "# Check for duplicates and remove them\n",
        "data.drop_duplicates(inplace=True)\n",
        "\n",
        "# Verify the changes\n",
        "print(\"Missing values after handling:\")\n",
        "print(data[numerical_columns].isnull().sum())\n",
        "print(\"\\nShape after removing duplicates:\", data.shape)\n",
        "\n"
      ],
      "metadata": {
        "colab": {
          "base_uri": "https://localhost:8080/"
        },
        "id": "sYn1s45CRb_b",
        "outputId": "c684351a-969b-4536-ac53-7f184b7d1940"
      },
      "execution_count": null,
      "outputs": [
        {
          "output_type": "stream",
          "name": "stdout",
          "text": [
            "Missing values after handling:\n",
            "Urea     0\n",
            "Cr       0\n",
            "HbA1c    0\n",
            "Chol     0\n",
            "TG       0\n",
            "HDL      0\n",
            "LDL      0\n",
            "VLDL     0\n",
            "BMI      0\n",
            "dtype: int64\n",
            "\n",
            "Shape after removing duplicates: (1000, 14)\n"
          ]
        }
      ]
    },
    {
      "cell_type": "code",
      "source": [
        "# Handling categorical data\n",
        "# Identify categorical columns\n",
        "categorical_columns = ['Gender', 'CLASS']\n",
        "# Encode categorical variables\n",
        "le = LabelEncoder()\n",
        "for col in categorical_columns:\n",
        "    data[col] = le.fit_transform(data[col])\n",
        "    print(f\"Encoded {col}:\", dict(zip(le.classes_, le.transform(le.classes_))))"
      ],
      "metadata": {
        "colab": {
          "base_uri": "https://localhost:8080/"
        },
        "id": "jJbTfZR4Rgmz",
        "outputId": "5abfa227-d508-4583-a22c-fd6075926b6a"
      },
      "execution_count": null,
      "outputs": [
        {
          "output_type": "stream",
          "name": "stdout",
          "text": [
            "Encoded Gender: {0: 0, 1: 1, 2: 2}\n",
            "Encoded CLASS: {0: 0, 1: 1, 2: 2, 3: 3, 4: 4}\n"
          ]
        }
      ]
    },
    {
      "cell_type": "code",
      "source": [
        "\n",
        "# Handle Outliers using IQR method\n",
        "def remove_outliers(df, column):\n",
        "    Q1 = df[column].quantile(0.25)\n",
        "    Q3 = df[column].quantile(0.75)\n",
        "    print(\"Quantile1:\",Q1)\n",
        "    print(\"Quantile3:\",Q3)\n",
        "    IQR = Q3 - Q1\n",
        "    print(\"IQR:\",IQR)\n",
        "    lower_bound = Q1 - 1.5 * IQR\n",
        "    upper_bound = Q3 + 1.5 * IQR\n",
        "    print(\"Lower Bound:\",lower_bound)\n",
        "    print(\"Upper Bound:\",upper_bound)\n",
        "    df = df[(df[column] >= lower_bound) & (df[column] <= upper_bound)]\n",
        "    return df\n",
        "\n",
        "# Apply outlier removal to numerical columns\n",
        "for col in numerical_columns:\n",
        "    data = remove_outliers(data, col)\n",
        "    print(f\"Shape after removing outliers in {col}:\", data.shape)\n"
      ],
      "metadata": {
        "colab": {
          "base_uri": "https://localhost:8080/"
        },
        "id": "k_wpbqzmS42b",
        "outputId": "f6f2684a-16e1-49da-8304-b895ec25f431"
      },
      "execution_count": null,
      "outputs": [
        {
          "output_type": "stream",
          "name": "stdout",
          "text": [
            "Quantile1: 3.4\n",
            "Quantile3: 5.4\n",
            "IQR: 2.0000000000000004\n",
            "Lower Bound: 0.399999999999999\n",
            "Upper Bound: 8.400000000000002\n",
            "Shape after removing outliers in Urea: (721, 14)\n",
            "Quantile1: 46.0\n",
            "Quantile3: 70.0\n",
            "IQR: 24.0\n",
            "Lower Bound: 10.0\n",
            "Upper Bound: 106.0\n",
            "Shape after removing outliers in Cr: (721, 14)\n",
            "Quantile1: 6.3\n",
            "Quantile3: 10.0\n",
            "IQR: 3.7\n",
            "Lower Bound: 0.7499999999999991\n",
            "Upper Bound: 15.55\n",
            "Shape after removing outliers in HbA1c: (721, 14)\n",
            "Quantile1: 4.1\n",
            "Quantile3: 5.5\n",
            "IQR: 1.4000000000000004\n",
            "Lower Bound: 1.9999999999999991\n",
            "Upper Bound: 7.6000000000000005\n",
            "Shape after removing outliers in Chol: (721, 14)\n",
            "Quantile1: 1.3\n",
            "Quantile3: 2.6\n",
            "IQR: 1.3\n",
            "Lower Bound: -0.6500000000000001\n",
            "Upper Bound: 4.550000000000001\n",
            "Shape after removing outliers in TG: (721, 14)\n",
            "Quantile1: 0.9\n",
            "Quantile3: 1.3\n",
            "IQR: 0.4\n",
            "Lower Bound: 0.29999999999999993\n",
            "Upper Bound: 1.9000000000000001\n",
            "Shape after removing outliers in HDL: (721, 14)\n",
            "Quantile1: 1.8\n",
            "Quantile3: 3.3\n",
            "IQR: 1.4999999999999998\n",
            "Lower Bound: -0.4499999999999995\n",
            "Upper Bound: 5.549999999999999\n",
            "Shape after removing outliers in LDL: (721, 14)\n",
            "Quantile1: 0.7\n",
            "Quantile3: 1.3\n",
            "IQR: 0.6000000000000001\n",
            "Lower Bound: -0.20000000000000018\n",
            "Upper Bound: 2.2\n",
            "Shape after removing outliers in VLDL: (721, 14)\n",
            "Quantile1: 26.0\n",
            "Quantile3: 32.0\n",
            "IQR: 6.0\n",
            "Lower Bound: 17.0\n",
            "Upper Bound: 41.0\n",
            "Shape after removing outliers in BMI: (721, 14)\n"
          ]
        }
      ]
    },
    {
      "cell_type": "code",
      "source": [
        "# 2. Data Transformations\n",
        "\n",
        "# Create copies for different scaling methods\n",
        "data_minmax = data.copy()\n",
        "data_standard = data.copy()\n",
        "\n",
        "# Min-Max Scaling\n",
        "minmax_scaler = MinMaxScaler()\n",
        "data_minmax[numerical_columns] = minmax_scaler.fit_transform(data_minmax[numerical_columns])\n",
        "\n",
        "# Standard Scaling\n",
        "standard_scaler = StandardScaler()\n",
        "data_standard[numerical_columns] = standard_scaler.fit_transform(data_standard[numerical_columns])\n",
        "\n",
        "# Save processed datasets\n",
        "data.to_csv('diabetes_cleaned.csv', index=False)\n",
        "data_minmax.to_csv('diabetes_minmax_scaled.csv', index=False)\n",
        "data_standard.to_csv('diabetes_standard_scaled.csv', index=False)\n",
        "\n",
        "# Print basic statistics of transformed data\n",
        "print(\"\\nMin-Max Scaled Data Statistics:\")\n",
        "print(data_minmax[numerical_columns].describe())\n",
        "\n",
        "print(\"\\nStandard Scaled Data Statistics:\")\n",
        "print(data_standard[numerical_columns].describe())"
      ],
      "metadata": {
        "colab": {
          "base_uri": "https://localhost:8080/"
        },
        "id": "ignt70yHTbmz",
        "outputId": "b2046752-6c04-4182-821c-002cbaf06def"
      },
      "execution_count": null,
      "outputs": [
        {
          "output_type": "stream",
          "name": "stdout",
          "text": [
            "\n",
            "Min-Max Scaled Data Statistics:\n",
            "             Urea          Cr       HbA1c        Chol          TG         HDL  \\\n",
            "count  721.000000  721.000000  721.000000  721.000000  721.000000  721.000000   \n",
            "mean     0.473130    0.443393    0.483103    0.496012    0.421769    0.474877   \n",
            "std      0.193842    0.200551    0.197510    0.193497    0.224379    0.209791   \n",
            "min      0.000000    0.000000    0.000000    0.000000    0.000000    0.000000   \n",
            "25%      0.323944    0.302326    0.335938    0.375000    0.238095    0.333333   \n",
            "50%      0.464789    0.418605    0.468750    0.500000    0.404762    0.466667   \n",
            "75%      0.605634    0.581395    0.625000    0.625000    0.547619    0.600000   \n",
            "max      1.000000    1.000000    1.000000    1.000000    1.000000    1.000000   \n",
            "\n",
            "              LDL        VLDL         BMI  \n",
            "count  721.000000  721.000000  721.000000  \n",
            "mean     0.452509    0.437864    0.500985  \n",
            "std      0.221685    0.220152    0.235918  \n",
            "min      0.000000    0.000000    0.000000  \n",
            "25%      0.272727    0.300000    0.350000  \n",
            "50%      0.431818    0.400000    0.500000  \n",
            "75%      0.613636    0.600000    0.650000  \n",
            "max      1.000000    1.000000    1.000000  \n",
            "\n",
            "Standard Scaled Data Statistics:\n",
            "               Urea            Cr         HbA1c          Chol            TG  \\\n",
            "count  7.210000e+02  7.210000e+02  7.210000e+02  7.210000e+02  7.210000e+02   \n",
            "mean   2.463740e-17  3.449237e-17 -7.883969e-17 -9.854962e-17 -1.970992e-16   \n",
            "std    1.000694e+00  1.000694e+00  1.000694e+00  1.000694e+00  1.000694e+00   \n",
            "min   -2.442498e+00 -2.212405e+00 -2.447668e+00 -2.565190e+00 -1.881024e+00   \n",
            "25%   -7.701633e-01 -7.038847e-01 -7.456219e-01 -6.258311e-01 -8.191555e-01   \n",
            "50%   -4.306138e-02 -1.236848e-01 -7.271977e-02  2.062194e-02 -7.584773e-02   \n",
            "75%    6.840405e-01  6.885951e-01  7.189298e-01  6.670750e-01  5.612732e-01   \n",
            "max    2.719926e+00  2.777315e+00  2.618889e+00  2.606434e+00  2.578823e+00   \n",
            "\n",
            "              HDL           LDL          VLDL           BMI  \n",
            "count  721.000000  7.210000e+02  7.210000e+02  7.210000e+02  \n",
            "mean     0.000000  2.463740e-16 -3.941985e-17 -3.941985e-16  \n",
            "std      1.000694  1.000694e+00  1.000694e+00  1.000694e+00  \n",
            "min     -2.265143 -2.042644e+00 -1.990294e+00 -2.125033e+00  \n",
            "25%     -0.675159 -8.115423e-01 -6.266557e-01 -6.404337e-01  \n",
            "50%     -0.039165 -9.339979e-02 -1.721097e-01 -4.176997e-03  \n",
            "75%      0.596828  7.273345e-01  7.369824e-01  6.320797e-01  \n",
            "max      2.504809  2.471395e+00  2.555167e+00  2.116679e+00  \n"
          ]
        }
      ]
    },
    {
      "cell_type": "code",
      "source": [
        "print(data)"
      ],
      "metadata": {
        "colab": {
          "base_uri": "https://localhost:8080/"
        },
        "id": "Hx4Ef2WfUEhz",
        "outputId": "ec588fe6-6e78-4f43-8b2b-e804438fd0d8"
      },
      "execution_count": null,
      "outputs": [
        {
          "output_type": "stream",
          "name": "stdout",
          "text": [
            "      ID  No_Pation  Gender  AGE  Urea  Cr  HbA1c  Chol   TG  HDL  LDL  VLDL  \\\n",
            "1    735      34221       1   26   4.5  62    4.9   3.7  1.4  1.1  2.1   0.6   \n",
            "4    504      34223       1   33   7.1  46    4.9   4.9  1.0  0.8  2.0   0.4   \n",
            "5    634      34224       0   45   2.3  24    4.0   2.9  1.0  1.0  1.5   0.4   \n",
            "6    721      34225       0   50   2.0  50    4.0   3.6  1.3  0.9  2.1   0.6   \n",
            "7    421      34227       1   48   4.7  47    4.0   2.9  0.8  0.9  1.6   0.4   \n",
            "..   ...        ...     ...  ...   ...  ..    ...   ...  ...  ...  ...   ...   \n",
            "990  194     454316       0   57   4.1  70    9.3   5.3  3.3  1.0  1.4   1.3   \n",
            "991  195       4543       2   55   4.1  34   13.9   5.4  1.6  1.6  3.1   0.7   \n",
            "992  196     454316       1   55   3.1  39    8.5   5.0  2.5  1.9  2.9   0.7   \n",
            "993  198     454316       1   28   3.5  61    8.5   4.5  1.9  1.1  2.6   0.8   \n",
            "999  248      24054       1   54   5.0  67    6.9   3.8  1.7  1.1  3.0   0.7   \n",
            "\n",
            "      BMI  CLASS  \n",
            "1    23.0      0  \n",
            "4    21.0      0  \n",
            "5    21.0      0  \n",
            "6    24.0      0  \n",
            "7    24.0      0  \n",
            "..    ...    ...  \n",
            "990  29.0      3  \n",
            "991  33.0      3  \n",
            "992  27.0      3  \n",
            "993  37.0      3  \n",
            "999  33.0      4  \n",
            "\n",
            "[721 rows x 14 columns]\n"
          ]
        }
      ]
    }
  ]
}
