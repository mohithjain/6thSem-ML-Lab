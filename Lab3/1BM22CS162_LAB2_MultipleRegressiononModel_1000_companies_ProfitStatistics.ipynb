{
  "nbformat": 4,
  "nbformat_minor": 0,
  "metadata": {
    "colab": {
      "provenance": []
    },
    "kernelspec": {
      "name": "python3",
      "display_name": "Python 3"
    },
    "language_info": {
      "name": "python"
    }
  },
  "cells": [
    {
      "cell_type": "code",
      "execution_count": null,
      "metadata": {
        "colab": {
          "base_uri": "https://localhost:8080/"
        },
        "id": "BS7jFn9ld81K",
        "outputId": "8ae687aa-74b5-4bc1-92e6-baf431327622"
      },
      "outputs": [
        {
          "output_type": "stream",
          "name": "stdout",
          "text": [
            "Original Dataset:\n",
            "   R&D Spend  Administration  Marketing Spend       State     Profit\n",
            "0  165349.20       136897.80        471784.10    New York  192261.83\n",
            "1  162597.70       151377.59        443898.53  California  191792.06\n",
            "2  153441.51       101145.55        407934.54     Florida  191050.39\n",
            "3  144372.41       118671.85        383199.62    New York  182901.99\n",
            "4  142107.34        91391.77        366168.42     Florida  166187.94\n"
          ]
        }
      ],
      "source": [
        "import pandas as pd\n",
        "import numpy as np\n",
        "from sklearn.linear_model import LinearRegression\n",
        "from sklearn.preprocessing import OneHotEncoder\n",
        "from sklearn.compose import ColumnTransformer\n",
        "from sklearn.pipeline import Pipeline\n",
        "\n",
        "# Load the data\n",
        "data = pd.read_csv('/content/1000_Companies.csv')\n",
        "\n",
        "# Display the dataset\n",
        "print(\"Original Dataset:\")\n",
        "print(data.head())\n",
        "\n"
      ]
    },
    {
      "cell_type": "code",
      "source": [
        "# Step 1: Handle missing values (if any)\n",
        "print(\"\\nMissing values in the dataset:\")\n",
        "print(data.isnull().sum())\n"
      ],
      "metadata": {
        "colab": {
          "base_uri": "https://localhost:8080/"
        },
        "id": "c_5g92DTeO0N",
        "outputId": "122a6d0a-8159-46c1-fa61-161a9e19ceca"
      },
      "execution_count": null,
      "outputs": [
        {
          "output_type": "stream",
          "name": "stdout",
          "text": [
            "\n",
            "Missing values in the dataset:\n",
            "R&D Spend          0\n",
            "Administration     0\n",
            "Marketing Spend    0\n",
            "State              0\n",
            "Profit             0\n",
            "dtype: int64\n"
          ]
        }
      ]
    },
    {
      "cell_type": "code",
      "source": [
        "# Step 2: Encode categorical variables (State)\n",
        "# Use OneHotEncoder to convert the 'State' column into numerical data\n",
        "column_transformer = ColumnTransformer(\n",
        "    transformers=[\n",
        "        ('one_hot', OneHotEncoder(), ['State'])  # Apply OneHotEncoder to the 'State' column\n",
        "    ],\n",
        "    remainder='passthrough'  # Keep the other columns as they are\n",
        ")\n"
      ],
      "metadata": {
        "id": "_VSMZiqueVC8"
      },
      "execution_count": null,
      "outputs": []
    },
    {
      "cell_type": "code",
      "source": [
        "# Step 3: Prepare the data for modeling\n",
        "X = data[['R&D Spend', 'Administration', 'Marketing Spend', 'State']]  # Features\n",
        "y = data['Profit']  # Target\n"
      ],
      "metadata": {
        "id": "o2DWY7pDeZjt"
      },
      "execution_count": null,
      "outputs": []
    },
    {
      "cell_type": "code",
      "source": [
        "# Step 4: Create a pipeline for preprocessing and modeling\n",
        "model = Pipeline(steps=[\n",
        "    ('preprocessor', column_transformer),  # Preprocess the data\n",
        "    ('regressor', LinearRegression())  # Train a Linear Regression model\n",
        "])\n"
      ],
      "metadata": {
        "id": "DkO57RmxecIV"
      },
      "execution_count": null,
      "outputs": []
    },
    {
      "cell_type": "code",
      "source": [
        "# Step 5: Train the model\n",
        "model.fit(X, y)\n",
        "\n",
        "# Step 6: Predict the profit for the given input\n",
        "new_data = pd.DataFrame({\n",
        "    'R&D Spend': [91694.48],\n",
        "    'Administration': [515841.3],\n",
        "    'Marketing Spend': [11931.24],\n",
        "    'State': ['Florida']\n",
        "})\n",
        "\n",
        "predicted_profit = model.predict(new_data)\n",
        "\n",
        "print(\"\\nPredicted Profit for the given input:\")\n",
        "print(predicted_profit[0])"
      ],
      "metadata": {
        "colab": {
          "base_uri": "https://localhost:8080/"
        },
        "id": "j1BgSAQzeeMl",
        "outputId": "37a76928-120c-4380-f163-c068edd91938"
      },
      "execution_count": null,
      "outputs": [
        {
          "output_type": "stream",
          "name": "stdout",
          "text": [
            "\n",
            "Predicted Profit for the given input:\n",
            "510570.99261086184\n"
          ]
        }
      ]
    }
  ]
}